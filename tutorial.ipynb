{
 "cells": [
  {
   "cell_type": "markdown",
   "metadata": {},
   "source": [
    "# RubyTutorial\n",
    "\n",
    "We are using Jupyter Notebooks to make this tutorial.\n",
    "For those who don't know about Jupyter Notebooks, go [here](https://jupyter.org/)."
   ]
  },
  {
   "cell_type": "markdown",
   "metadata": {},
   "source": [
    "## Basics"
   ]
  },
  {
   "cell_type": "markdown",
   "metadata": {},
   "source": [
    "### Data Types"
   ]
  },
  {
   "cell_type": "code",
   "execution_count": 2,
   "metadata": {
    "collapsed": false
   },
   "outputs": [
    {
     "name": "stdout",
     "output_type": "stream",
     "text": [
      "15\n",
      "Tushar\n",
      "true\n"
     ]
    }
   ],
   "source": [
    "my_num = 15\n",
    "my_string = \"Tushar\"\n",
    "my_bool = true\n",
    "\n",
    "puts my_num, my_string, my_bool"
   ]
  },
  {
   "cell_type": "markdown",
   "metadata": {},
   "source": [
    "Ruby is a dynamically typed Language, as we see in the above code, we assigned a number, a string value and a boolean to three different variables"
   ]
  },
  {
   "cell_type": "markdown",
   "metadata": {},
   "source": [
    "'puts' is a function that takes a list of arguements and prints to console on a new line, You may use print statement as well, the only difference is, it prints in continuation. "
   ]
  },
  {
   "cell_type": "code",
   "execution_count": 3,
   "metadata": {
    "collapsed": false
   },
   "outputs": [
    {
     "name": "stdout",
     "output_type": "stream",
     "text": [
      "15Tushartrue"
     ]
    }
   ],
   "source": [
    "print my_num, my_string, my_bool "
   ]
  },
  {
   "cell_type": "markdown",
   "metadata": {},
   "source": [
    "my_num, my_string and my_bool are variables which are holding different objects. For naming variables in ruby we use snakecase as a convention. "
   ]
  },
  {
   "cell_type": "markdown",
   "metadata": {},
   "source": [
    "Everything is a an Object in Ruby,\n",
    "\n",
    "Everything!"
   ]
  },
  {
   "cell_type": "markdown",
   "metadata": {},
   "source": [
    "To find out class of a ruby object we can call a 'class' method on any object."
   ]
  },
  {
   "cell_type": "code",
   "execution_count": 4,
   "metadata": {
    "collapsed": false
   },
   "outputs": [
    {
     "name": "stdout",
     "output_type": "stream",
     "text": [
      "Fixnum\n",
      "String\n",
      "TrueClass\n"
     ]
    }
   ],
   "source": [
    "puts my_num.class() , my_string.class() , my_bool.class()"
   ]
  },
  {
   "cell_type": "code",
   "execution_count": null,
   "metadata": {
    "collapsed": true
   },
   "outputs": [],
   "source": []
  }
 ],
 "metadata": {
  "kernelspec": {
   "display_name": "Ruby 2.3.0",
   "language": "ruby",
   "name": "ruby"
  },
  "language_info": {
   "file_extension": ".rb",
   "mimetype": "application/x-ruby",
   "name": "ruby",
   "version": "2.3.0"
  }
 },
 "nbformat": 4,
 "nbformat_minor": 0
}
